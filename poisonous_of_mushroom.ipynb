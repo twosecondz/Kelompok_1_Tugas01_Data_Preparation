{
 "cells": [
  {
   "cell_type": "markdown",
   "id": "6f71fe8f-325e-493b-96e5-8dbf50c13c44",
   "metadata": {},
   "source": [
    "# From Audobon Society Field Guide; mushrooms described in terms of physical characteristics; classification: poisonous or edible"
   ]
  },
  {
   "cell_type": "markdown",
   "id": "4f550e69-48ac-4d8a-a87b-63d8859b08b2",
   "metadata": {},
   "source": [
    "# Data Loading"
   ]
  },
  {
   "cell_type": "code",
   "execution_count": 27,
   "id": "d3b208ec-06f6-46a0-a2f7-5912868c2b62",
   "metadata": {},
   "outputs": [
    {
     "data": {
      "text/html": [
       "<div>\n",
       "<style scoped>\n",
       "    .dataframe tbody tr th:only-of-type {\n",
       "        vertical-align: middle;\n",
       "    }\n",
       "\n",
       "    .dataframe tbody tr th {\n",
       "        vertical-align: top;\n",
       "    }\n",
       "\n",
       "    .dataframe thead th {\n",
       "        text-align: right;\n",
       "    }\n",
       "</style>\n",
       "<table border=\"1\" class=\"dataframe\">\n",
       "  <thead>\n",
       "    <tr style=\"text-align: right;\">\n",
       "      <th></th>\n",
       "      <th>cap-shape</th>\n",
       "      <th>cap-surface</th>\n",
       "      <th>cap-color</th>\n",
       "      <th>bruises</th>\n",
       "      <th>odor</th>\n",
       "      <th>gill-attachment</th>\n",
       "      <th>gill-spacing</th>\n",
       "      <th>gil-size</th>\n",
       "      <th>gil-color</th>\n",
       "      <th>stalk-shape</th>\n",
       "      <th>...</th>\n",
       "      <th>stalk-color-above-ring</th>\n",
       "      <th>stalk-color-belo-ring</th>\n",
       "      <th>veil-type</th>\n",
       "      <th>veil-color</th>\n",
       "      <th>ring-number</th>\n",
       "      <th>ring-type</th>\n",
       "      <th>spore-print-color</th>\n",
       "      <th>population</th>\n",
       "      <th>habitat</th>\n",
       "      <th>poisonous</th>\n",
       "    </tr>\n",
       "  </thead>\n",
       "  <tbody>\n",
       "    <tr>\n",
       "      <th>0</th>\n",
       "      <td>x</td>\n",
       "      <td>s</td>\n",
       "      <td>n</td>\n",
       "      <td>t</td>\n",
       "      <td>p</td>\n",
       "      <td>f</td>\n",
       "      <td>c</td>\n",
       "      <td>n</td>\n",
       "      <td>k</td>\n",
       "      <td>e</td>\n",
       "      <td>...</td>\n",
       "      <td>w</td>\n",
       "      <td>w</td>\n",
       "      <td>p</td>\n",
       "      <td>w</td>\n",
       "      <td>o</td>\n",
       "      <td>p</td>\n",
       "      <td>k</td>\n",
       "      <td>s</td>\n",
       "      <td>u</td>\n",
       "      <td>p</td>\n",
       "    </tr>\n",
       "    <tr>\n",
       "      <th>1</th>\n",
       "      <td>x</td>\n",
       "      <td>s</td>\n",
       "      <td>y</td>\n",
       "      <td>t</td>\n",
       "      <td>a</td>\n",
       "      <td>f</td>\n",
       "      <td>c</td>\n",
       "      <td>b</td>\n",
       "      <td>k</td>\n",
       "      <td>e</td>\n",
       "      <td>...</td>\n",
       "      <td>w</td>\n",
       "      <td>w</td>\n",
       "      <td>p</td>\n",
       "      <td>w</td>\n",
       "      <td>o</td>\n",
       "      <td>p</td>\n",
       "      <td>n</td>\n",
       "      <td>n</td>\n",
       "      <td>g</td>\n",
       "      <td>e</td>\n",
       "    </tr>\n",
       "    <tr>\n",
       "      <th>2</th>\n",
       "      <td>b</td>\n",
       "      <td>s</td>\n",
       "      <td>w</td>\n",
       "      <td>t</td>\n",
       "      <td>l</td>\n",
       "      <td>f</td>\n",
       "      <td>c</td>\n",
       "      <td>b</td>\n",
       "      <td>n</td>\n",
       "      <td>e</td>\n",
       "      <td>...</td>\n",
       "      <td>w</td>\n",
       "      <td>w</td>\n",
       "      <td>p</td>\n",
       "      <td>w</td>\n",
       "      <td>o</td>\n",
       "      <td>p</td>\n",
       "      <td>n</td>\n",
       "      <td>n</td>\n",
       "      <td>m</td>\n",
       "      <td>e</td>\n",
       "    </tr>\n",
       "    <tr>\n",
       "      <th>3</th>\n",
       "      <td>x</td>\n",
       "      <td>y</td>\n",
       "      <td>w</td>\n",
       "      <td>t</td>\n",
       "      <td>p</td>\n",
       "      <td>f</td>\n",
       "      <td>c</td>\n",
       "      <td>n</td>\n",
       "      <td>n</td>\n",
       "      <td>e</td>\n",
       "      <td>...</td>\n",
       "      <td>w</td>\n",
       "      <td>w</td>\n",
       "      <td>p</td>\n",
       "      <td>w</td>\n",
       "      <td>o</td>\n",
       "      <td>p</td>\n",
       "      <td>k</td>\n",
       "      <td>s</td>\n",
       "      <td>u</td>\n",
       "      <td>p</td>\n",
       "    </tr>\n",
       "    <tr>\n",
       "      <th>4</th>\n",
       "      <td>x</td>\n",
       "      <td>s</td>\n",
       "      <td>g</td>\n",
       "      <td>f</td>\n",
       "      <td>n</td>\n",
       "      <td>f</td>\n",
       "      <td>w</td>\n",
       "      <td>b</td>\n",
       "      <td>k</td>\n",
       "      <td>t</td>\n",
       "      <td>...</td>\n",
       "      <td>w</td>\n",
       "      <td>w</td>\n",
       "      <td>p</td>\n",
       "      <td>w</td>\n",
       "      <td>o</td>\n",
       "      <td>e</td>\n",
       "      <td>n</td>\n",
       "      <td>a</td>\n",
       "      <td>g</td>\n",
       "      <td>e</td>\n",
       "    </tr>\n",
       "  </tbody>\n",
       "</table>\n",
       "<p>5 rows × 23 columns</p>\n",
       "</div>"
      ],
      "text/plain": [
       "  cap-shape cap-surface cap-color bruises odor gill-attachment gill-spacing  \\\n",
       "0         x           s         n       t    p               f            c   \n",
       "1         x           s         y       t    a               f            c   \n",
       "2         b           s         w       t    l               f            c   \n",
       "3         x           y         w       t    p               f            c   \n",
       "4         x           s         g       f    n               f            w   \n",
       "\n",
       "  gil-size gil-color stalk-shape  ... stalk-color-above-ring  \\\n",
       "0        n         k           e  ...                      w   \n",
       "1        b         k           e  ...                      w   \n",
       "2        b         n           e  ...                      w   \n",
       "3        n         n           e  ...                      w   \n",
       "4        b         k           t  ...                      w   \n",
       "\n",
       "  stalk-color-belo-ring veil-type veil-color ring-number ring-type  \\\n",
       "0                     w         p          w           o         p   \n",
       "1                     w         p          w           o         p   \n",
       "2                     w         p          w           o         p   \n",
       "3                     w         p          w           o         p   \n",
       "4                     w         p          w           o         e   \n",
       "\n",
       "  spore-print-color population habitat poisonous  \n",
       "0                 k          s       u         p  \n",
       "1                 n          n       g         e  \n",
       "2                 n          n       m         e  \n",
       "3                 k          s       u         p  \n",
       "4                 n          a       g         e  \n",
       "\n",
       "[5 rows x 23 columns]"
      ]
     },
     "execution_count": 27,
     "metadata": {},
     "output_type": "execute_result"
    }
   ],
   "source": [
    "import pandas as pd\n",
    "\n",
    "df = pd.read_csv('mushroom.csv')\n",
    "df.head()"
   ]
  },
  {
   "cell_type": "markdown",
   "id": "f45ec551-f9ac-4024-824e-b174d9be6cfa",
   "metadata": {},
   "source": [
    "## Columns Description\n",
    "* Class label= poisonous : edible=e, poisonous=p\n",
    "     1. cap-shape:                bell=b,conical=c,convex=x,flat=f, knobbed=k,sunken=s\r\n",
    "     2. cap-surface:              fibrous=f,grooves=g,scaly=y,smooth=s\r\n",
    "     3. cap-color:                brown=n,buff=b,cinnamon=c,gray=g,green=r, pink=p,purple=u,red=e,white=w,yellow=y\r\n",
    "     4. bruises?:                 bruises=t,no=f\r\n",
    "     5. odor:                     almond=a,anise=l,creosote=c,fishy=y,foul=f, musty=m,none=n,pungent=p,spicy=s\r\n",
    "     6. gill-attachment:          attached=a,descending=d,free=f,notched=n\r\n",
    "     7. gill-spacing:             close=c,crowded=w,distant=d\r\n",
    "     8. gill-size:                broad=b,narrow=n\r\n",
    "     9. gill-color:               black=k,brown=n,buff=b,chocolate=h,gray=g, green=r,orange=o,pink=p,purple=u,red=e, white=w,yellow=y\r\n",
    "    10. stalk-shape:              enlarging=e,tapering=t\r\n",
    "    11. stalk-root:               bulbous=b,club=c,cup=u,equal=e, rhizomorphs=z,rooted=r,missing=?\r\n",
    "    12. stalk-surface-above-ring: fibrous=f,scaly=y,silky=k,smooth=s\r\n",
    "    13. stalk-surface-below-ring: fibrous=f,scaly=y,silky=k,smooth=s\r\n",
    "    14. stalk-color-above-ring:   brown=n,buff=b,cinnamon=c,gray=g,orange=o, pink=p,red=e,white=w,yellow=y\r\n",
    "    15. stalk-color-below-ring:   brown=n,buff=b,cinnamon=c,gray=g,orange=o, pink=p,red=e,white=w,yellow=y\r\n",
    "    16. veil-type:                partial=p,universal=u\r\n",
    "    17. veil-color:               brown=n,orange=o,white=w,yellow=y\r\n",
    "    18. ring-number:              none=n,one=o,two=t\r\n",
    "    19. ring-type:                cobwebby=c,evanescent=e,flaring=f,large=l, none=n,pendant=p,sheathing=s,zone=z\r\n",
    "    20. spore-print-color:        black=k,brown=n,buff=b,chocolate=h,green=r, orange=o,purple=u,white=w,yellow=y\r\n",
    "    21. population:               abundant=a,clustered=c,numerous=n, scattered=s,several=v,solitary=y\r\n",
    "    22. habitat:                  grasses=g,leaves=l,meadows=m,paths=p, ur.\n",
    "ban=u,waste=w,woods=d"
   ]
  },
  {
   "cell_type": "markdown",
   "id": "24d9822a-9518-481d-b30f-e24ac36867aa",
   "metadata": {},
   "source": [
    "# Data Exploration"
   ]
  },
  {
   "cell_type": "code",
   "execution_count": 28,
   "id": "5f5dcec9-e132-450e-bcf2-c202418e0d21",
   "metadata": {},
   "outputs": [
    {
     "name": "stdout",
     "output_type": "stream",
     "text": [
      "<class 'pandas.core.frame.DataFrame'>\n",
      "RangeIndex: 8124 entries, 0 to 8123\n",
      "Data columns (total 23 columns):\n",
      " #   Column                    Non-Null Count  Dtype \n",
      "---  ------                    --------------  ----- \n",
      " 0   cap-shape                 8124 non-null   object\n",
      " 1   cap-surface               8124 non-null   object\n",
      " 2   cap-color                 8124 non-null   object\n",
      " 3   bruises                   8124 non-null   object\n",
      " 4   odor                      8124 non-null   object\n",
      " 5   gill-attachment           8124 non-null   object\n",
      " 6   gill-spacing              8124 non-null   object\n",
      " 7   gil-size                  8124 non-null   object\n",
      " 8   gil-color                 8124 non-null   object\n",
      " 9   stalk-shape               8124 non-null   object\n",
      " 10  stalk-root                8124 non-null   object\n",
      " 11  stalk-surface-above-ring  8124 non-null   object\n",
      " 12  stalk-surface-below-ring  8124 non-null   object\n",
      " 13  stalk-color-above-ring    8124 non-null   object\n",
      " 14  stalk-color-belo-ring     8124 non-null   object\n",
      " 15  veil-type                 8124 non-null   object\n",
      " 16  veil-color                8124 non-null   object\n",
      " 17  ring-number               8124 non-null   object\n",
      " 18  ring-type                 8124 non-null   object\n",
      " 19  spore-print-color         8124 non-null   object\n",
      " 20  population                8124 non-null   object\n",
      " 21  habitat                   8124 non-null   object\n",
      " 22  poisonous                 8124 non-null   object\n",
      "dtypes: object(23)\n",
      "memory usage: 1.4+ MB\n"
     ]
    }
   ],
   "source": [
    "df.info()"
   ]
  },
  {
   "cell_type": "code",
   "execution_count": 29,
   "id": "0cf5e77e-d2a6-4553-9089-a1cc095d04cf",
   "metadata": {},
   "outputs": [
    {
     "data": {
      "image/png": "[encoded data removed]",
      "text/plain": [
       "<Figure size 640x480 with 1 Axes>"
      ]
     },
     "metadata": {},
     "output_type": "display_data"
    }
   ],
   "source": [
    "# Contoh grafik label poisonous terhadap habitat\n",
    "import seaborn as sns\n",
    "import matplotlib.pyplot as plt\n",
    "\n",
    "sns.countplot(data=df,x='habitat',hue=df['poisonous'])\n",
    "plt.xticks(rotation=45, ha='right');"
   ]
  },
  {
   "cell_type": "markdown",
   "id": "e6f94cf7-d8c3-41c7-aa91-75c019d2e4b5",
   "metadata": {},
   "source": [
    "# DATA PROCESING"
   ]
  },
  {
   "cell_type": "markdown",
   "id": "86c646ef-5ef5-4857-9d9c-261ac79130da",
   "metadata": {},
   "source": [
    "## Split Data"
   ]
  },
  {
   "cell_type": "code",
   "execution_count": 30,
   "id": "d03431a5-10a9-4d44-83ae-488db4bdb141",
   "metadata": {},
   "outputs": [],
   "source": [
    "X=df.iloc[:,:22].values\n",
    "y=df.iloc[:, 22].values"
   ]
  },
  {
   "cell_type": "code",
   "execution_count": 6,
   "id": "eff24775-9860-46e1-8312-c7d269fe914e",
   "metadata": {},
   "outputs": [
    {
     "name": "stdout",
     "output_type": "stream",
     "text": [
      "[['x' 's' 'n' ... 'k' 's' 'u']\n",
      " ['x' 's' 'y' ... 'n' 'n' 'g']\n",
      " ['b' 's' 'w' ... 'n' 'n' 'm']\n",
      " ...\n",
      " ['f' 's' 'n' ... 'b' 'c' 'l']\n",
      " ['k' 'y' 'n' ... 'w' 'v' 'l']\n",
      " ['x' 's' 'n' ... 'o' 'c' 'l']]\n"
     ]
    }
   ],
   "source": [
    "print(X)"
   ]
  },
  {
   "cell_type": "code",
   "execution_count": 7,
   "id": "611ae89e-df09-4cdb-911b-8de2580bd85a",
   "metadata": {},
   "outputs": [
    {
     "name": "stdout",
     "output_type": "stream",
     "text": [
      "['p' 'e' 'e' ... 'e' 'p' 'e']\n"
     ]
    }
   ],
   "source": [
    "print(y)"
   ]
  },
  {
   "cell_type": "markdown",
   "id": "73926b3a-b586-489b-96f1-d31c4130b9b1",
   "metadata": {},
   "source": [
    "## Transform typedata Kategorical to Numerik"
   ]
  },
  {
   "cell_type": "code",
   "execution_count": 8,
   "id": "b9638749-aa67-43b4-9056-682ab548c03c",
   "metadata": {},
   "outputs": [],
   "source": [
    "from sklearn.preprocessing import LabelEncoder\n",
    "\n",
    "# Create a LabelEncoder instance\n",
    "le = LabelEncoder()\n",
    "\n",
    "# Iterate through columns 0 to 21\n",
    "for col in range(0, 22):\n",
    "    X[:, col] = le.fit_transform(X[:, col])\n",
    "\n",
    "y = le.fit_transform(y)"
   ]
  },
  {
   "cell_type": "code",
   "execution_count": 71,
   "id": "4b778dea-28f2-4a5f-a3f0-577040244d3d",
   "metadata": {},
   "outputs": [
    {
     "name": "stdout",
     "output_type": "stream",
     "text": [
      "     cap-shape cap-surface cap-color bruises odor gill-attachment  \\\n",
      "0            5           2         4       1    6               1   \n",
      "1            5           2         9       1    0               1   \n",
      "2            0           2         8       1    3               1   \n",
      "3            5           3         8       1    6               1   \n",
      "4            5           2         3       0    5               1   \n",
      "...        ...         ...       ...     ...  ...             ...   \n",
      "8119         3           2         4       0    5               0   \n",
      "8120         5           2         4       0    5               0   \n",
      "8121         2           2         4       0    5               0   \n",
      "8122         3           3         4       0    8               1   \n",
      "8123         5           2         4       0    5               0   \n",
      "\n",
      "     gill-spacing gil-size gil-color stalk-shape  ... stalk-color-above-ring  \\\n",
      "0               0        1         4           0  ...                      7   \n",
      "1               0        0         4           0  ...                      7   \n",
      "2               0        0         5           0  ...                      7   \n",
      "3               0        1         5           0  ...                      7   \n",
      "4               1        0         4           1  ...                      7   \n",
      "...           ...      ...       ...         ...  ...                    ...   \n",
      "8119            0        0        11           0  ...                      5   \n",
      "8120            0        0        11           0  ...                      5   \n",
      "8121            0        0         5           0  ...                      5   \n",
      "8122            0        1         0           1  ...                      7   \n",
      "8123            0        0        11           0  ...                      5   \n",
      "\n",
      "     stalk-color-belo-ring veil-type veil-color ring-number ring-type  \\\n",
      "0                        7         0          2           1         4   \n",
      "1                        7         0          2           1         4   \n",
      "2                        7         0          2           1         4   \n",
      "3                        7         0          2           1         4   \n",
      "4                        7         0          2           1         0   \n",
      "...                    ...       ...        ...         ...       ...   \n",
      "8119                     5         0          1           1         4   \n",
      "8120                     5         0          0           1         4   \n",
      "8121                     5         0          1           1         4   \n",
      "8122                     7         0          2           1         0   \n",
      "8123                     5         0          1           1         4   \n",
      "\n",
      "     spore-print-color population habitat poisonous  \n",
      "0                    2          3       5         1  \n",
      "1                    3          2       1         0  \n",
      "2                    3          2       3         0  \n",
      "3                    2          3       5         1  \n",
      "4                    3          0       1         0  \n",
      "...                ...        ...     ...       ...  \n",
      "8119                 0          1       2         0  \n",
      "8120                 0          4       2         0  \n",
      "8121                 0          1       2         0  \n",
      "8122                 7          4       2         1  \n",
      "8123                 4          1       2         0  \n",
      "\n",
      "[8124 rows x 23 columns]\n"
     ]
    }
   ],
   "source": [
    "print(df)"
   ]
  },
  {
   "cell_type": "markdown",
   "id": "686b317a-d934-49b4-b442-e29c567e07e5",
   "metadata": {},
   "source": [
    "## Checking if the Data has a NaN Value"
   ]
  },
  {
   "cell_type": "code",
   "execution_count": 9,
   "id": "32ce4979-150e-467f-a8fa-1df3498cfeff",
   "metadata": {},
   "outputs": [
    {
     "name": "stdout",
     "output_type": "stream",
     "text": [
      "cap-shape                   0\n",
      "cap-surface                 0\n",
      "cap-color                   0\n",
      "bruises                     0\n",
      "odor                        0\n",
      "gill-attachment             0\n",
      "gill-spacing                0\n",
      "gil-size                    0\n",
      "gil-color                   0\n",
      "stalk-shape                 0\n",
      "stalk-root                  0\n",
      "stalk-surface-above-ring    0\n",
      "stalk-surface-below-ring    0\n",
      "stalk-color-above-ring      0\n",
      "stalk-color-belo-ring       0\n",
      "veil-type                   0\n",
      "veil-color                  0\n",
      "ring-number                 0\n",
      "ring-type                   0\n",
      "spore-print-color           0\n",
      "population                  0\n",
      "habitat                     0\n",
      "poisonous                   0\n",
      "dtype: int64\n"
     ]
    }
   ],
   "source": [
    "print(df.isnull().sum())"
   ]
  },
  {
   "cell_type": "markdown",
   "id": "f310fee4-e3bc-45bf-a039-973135652912",
   "metadata": {},
   "source": [
    "## Checkinf if the Data is Imbalanced"
   ]
  },
  {
   "cell_type": "code",
   "execution_count": 10,
   "id": "6ce7baae-01c0-40be-ba96-36cfde7295ea",
   "metadata": {},
   "outputs": [
    {
     "name": "stdout",
     "output_type": "stream",
     "text": [
      "Value: 0, Count: 4208\n",
      "Value: 1, Count: 3916\n"
     ]
    }
   ],
   "source": [
    "import numpy as np\n",
    "\n",
    "# Assuming 'y' is a NumPy array\n",
    "unique_values, counts = np.unique(y, return_counts=True)\n",
    "\n",
    "# 'unique_values' will contain the unique values in 'y', and 'counts' will contain their corresponding counts\n",
    "for value, count in zip(unique_values, counts):\n",
    "    print(f\"Value: {value}, Count: {count}\")\n"
   ]
  },
  {
   "cell_type": "code",
   "execution_count": 11,
   "id": "dcb41772-afaf-472f-a306-67498609aa29",
   "metadata": {},
   "outputs": [
    {
     "data": {
      "image/png": "[encoded data removed]",
      "text/plain": [
       "<Figure size 640x480 with 1 Axes>"
      ]
     },
     "metadata": {},
     "output_type": "display_data"
    }
   ],
   "source": [
    "import pandas as pd\n",
    "import matplotlib.pyplot as plt\n",
    "\n",
    "# Assuming 'y' is a NumPy array\n",
    "y_series = pd.Series(y)\n",
    "\n",
    "# Use value_counts and plot the pie chart\n",
    "y_series.value_counts().plot.pie(autopct='%.2f%%')\n",
    "\n",
    "plt.show()\n"
   ]
  },
  {
   "cell_type": "markdown",
   "id": "a8af9dcd-718b-40a7-ac0e-87edd362b43e",
   "metadata": {},
   "source": [
    "## Labeling the Data and Characteristics"
   ]
  },
  {
   "cell_type": "code",
   "execution_count": 12,
   "id": "d8ce5c58-97db-4e5e-b79b-ef0155e3ea3d",
   "metadata": {},
   "outputs": [],
   "source": [
    "from sklearn.model_selection import train_test_split\n",
    "\n",
    "X_train, X_test, y_train, y_test = train_test_split(\n",
    "    X, y, test_size=0.33, random_state=125\n",
    ")"
   ]
  },
  {
   "cell_type": "code",
   "execution_count": 13,
   "id": "6f34a8e6-206f-4043-a4f1-c6cdc5184a37",
   "metadata": {},
   "outputs": [],
   "source": [
    "from sklearn.preprocessing import StandardScaler\n",
    "scaler = StandardScaler()\n",
    "scaler.fit(X_train)\n",
    "X_train = scaler.transform(X_train)\n",
    "X_test = scaler.transform(X_test)"
   ]
  },
  {
   "cell_type": "code",
   "execution_count": 14,
   "id": "b23082ff-2a1c-4e5c-8180-5102ff437b65",
   "metadata": {},
   "outputs": [
    {
     "data": {
      "text/plain": [
       "array([[-0.83427256, -1.50847428,  1.75382193, ..., -1.08419784,\n",
       "         1.07753997, -0.87289376],\n",
       "       [ 1.0418928 ,  0.12824963,  1.36342226, ..., -0.66405767,\n",
       "        -1.29729472,  0.87793319],\n",
       "       [ 1.0418928 ,  0.94661159, -0.97897577, ..., -0.2439175 ,\n",
       "         1.07753997, -0.87289376],\n",
       "       ...,\n",
       "       [ 1.0418928 ,  0.94661159, -0.19817643, ...,  1.43664319,\n",
       "         0.28592841,  0.29432421],\n",
       "       [ 1.0418928 , -1.50847428, -0.97897577, ..., -0.2439175 ,\n",
       "         0.28592841, -0.87289376],\n",
       "       [-0.83427256, -1.50847428, -0.5885761 , ..., -0.2439175 ,\n",
       "         1.07753997, -0.87289376]])"
      ]
     },
     "execution_count": 14,
     "metadata": {},
     "output_type": "execute_result"
    }
   ],
   "source": [
    "X_train"
   ]
  },
  {
   "cell_type": "code",
   "execution_count": 15,
   "id": "c2b00db8-adf8-414f-a719-24a4f2144304",
   "metadata": {},
   "outputs": [
    {
     "data": {
      "text/plain": [
       "array([[ 1.0418928 , -1.50847428,  1.36342226, ..., -0.2439175 ,\n",
       "        -2.88051785, -0.28928478],\n",
       "       [-0.83427256,  0.12824963,  1.36342226, ..., -1.08419784,\n",
       "        -0.50568315, -0.28928478],\n",
       "       [ 1.0418928 , -1.50847428, -1.36937544, ...,  1.43664319,\n",
       "         0.28592841,  0.29432421],\n",
       "       ...,\n",
       "       [-0.83427256,  0.94661159, -0.19817643, ...,  1.43664319,\n",
       "         0.28592841,  1.46154217],\n",
       "       [-2.08504947, -1.50847428,  1.36342226, ...,  1.43664319,\n",
       "        -0.50568315, -0.28928478],\n",
       "       [ 1.0418928 ,  0.12824963,  1.36342226, ...,  1.43664319,\n",
       "        -1.29729472, -0.28928478]])"
      ]
     },
     "execution_count": 15,
     "metadata": {},
     "output_type": "execute_result"
    }
   ],
   "source": [
    "X_test"
   ]
  },
  {
   "cell_type": "markdown",
   "id": "58b7e7b3-7bd4-42f5-9732-8e1dd7f9364b",
   "metadata": {},
   "source": [
    "# Naive Bayes"
   ]
  },
  {
   "cell_type": "markdown",
   "id": "5e9ebb42-1144-44ef-a0f3-11860f578b46",
   "metadata": {},
   "source": [
    "## Model Building and Training"
   ]
  },
  {
   "cell_type": "code",
   "execution_count": 16,
   "id": "78d331e3-5dc8-4be8-9a2b-102fa6656ee8",
   "metadata": {},
   "outputs": [],
   "source": [
    "from sklearn.naive_bayes import GaussianNB\n",
    "\n",
    "model = GaussianNB()\n",
    "\n",
    "model.fit(X_train, y_train);"
   ]
  },
  {
   "cell_type": "markdown",
   "id": "57a9e439-de36-4270-86de-189495ad7b55",
   "metadata": {},
   "source": [
    "## Model Evaluation"
   ]
  },
  {
   "cell_type": "code",
   "execution_count": 17,
   "id": "379c7c87-887d-490c-a866-cc789e04421a",
   "metadata": {},
   "outputs": [
    {
     "name": "stdout",
     "output_type": "stream",
     "text": [
      "Accuracy: 0.9198060425214473\n",
      "F1 Score: 0.9197574782178044\n"
     ]
    }
   ],
   "source": [
    "from sklearn.metrics import (\n",
    "    accuracy_score,\n",
    "    confusion_matrix,\n",
    "    ConfusionMatrixDisplay,\n",
    "    f1_score,\n",
    "    classification_report,\n",
    ")\n",
    "\n",
    "y_pred = model.predict(X_test)\n",
    "\n",
    "accuray = accuracy_score(y_pred, y_test)\n",
    "f1 = f1_score(y_pred, y_test, average=\"weighted\")\n",
    "\n",
    "print(\"Accuracy:\", accuray)\n",
    "print(\"F1 Score:\", f1)"
   ]
  },
  {
   "cell_type": "markdown",
   "id": "f0a397e3-d954-47a5-8828-ff823b1d1913",
   "metadata": {},
   "source": [
    "# Confusion Matrix"
   ]
  },
  {
   "cell_type": "code",
   "execution_count": 18,
   "id": "5dcb984c-5747-4d74-b64e-9586b9daa9ac",
   "metadata": {},
   "outputs": [],
   "source": [
    "import seaborn as sn\n",
    "import matplotlib.pyplot as plt\n",
    "from sklearn.metrics import confusion_matrix"
   ]
  },
  {
   "cell_type": "code",
   "execution_count": 19,
   "id": "7f93ce8f-82ae-4edd-bce9-45346217e18b",
   "metadata": {},
   "outputs": [],
   "source": [
    "cm_nb = confusion_matrix(y_test,y_pred)"
   ]
  },
  {
   "cell_type": "code",
   "execution_count": 20,
   "id": "22c56d3e-3b2f-4b57-8044-d36212329770",
   "metadata": {},
   "outputs": [
    {
     "data": {
      "text/plain": [
       "array([[1286,  128],\n",
       "       [  87, 1180]], dtype=int64)"
      ]
     },
     "execution_count": 20,
     "metadata": {},
     "output_type": "execute_result"
    }
   ],
   "source": [
    "cm_nb"
   ]
  },
  {
   "cell_type": "code",
   "execution_count": 21,
   "id": "615c0cf0-3238-4019-9f4f-f49fac9fa013",
   "metadata": {},
   "outputs": [],
   "source": [
    "tn, fp, fn, tp = cm_nb.ravel()\n",
    "    \n",
    "recall = tp / (tp + fn)\n",
    "precision = tp / (tp + fp)\n",
    "accuracy = (tp + tn) / (tn + fp + fn + tp)\n",
    "f1 = 2 * (precision * recall) / (precision + recall)"
   ]
  },
  {
   "cell_type": "code",
   "execution_count": 22,
   "id": "e8432a4e-2f1d-40d1-ab2c-c8f5e28a95f0",
   "metadata": {},
   "outputs": [
    {
     "name": "stdout",
     "output_type": "stream",
     "text": [
      "recall:  0.9313338595106551\n",
      "precision:  0.9021406727828746\n",
      "accuracy:  0.9198060425214473\n",
      "f1-score:  0.9165048543689321\n"
     ]
    }
   ],
   "source": [
    "print(\"recall: \", recall)\n",
    "print(\"precision: \", precision)\n",
    "print(\"accuracy: \", accuracy)\n",
    "print(\"f1-score: \", f1)"
   ]
  },
  {
   "cell_type": "code",
   "execution_count": 23,
   "id": "98d2879e-2fad-4aff-8b9e-3795c6f198b9",
   "metadata": {},
   "outputs": [
    {
     "data": {
      "image/png": "[encoded data removed]",
      "text/plain": [
       "<Figure size 640x480 with 2 Axes>"
      ]
     },
     "metadata": {},
     "output_type": "display_data"
    }
   ],
   "source": [
    "labels = [\"Edible\", \"Poisonous\"]\n",
    "cm = confusion_matrix(y_test, y_pred)\n",
    "disp = ConfusionMatrixDisplay(confusion_matrix=cm, display_labels=labels)\n",
    "disp.plot();"
   ]
  }
 ],
 "metadata": {
  "kernelspec": {
   "display_name": "Python 3 (ipykernel)",
   "language": "python",
   "name": "python3"
  },
  "language_info": {
   "codemirror_mode": {
    "name": "ipython",
    "version": 3
   },
   "file_extension": ".py",
   "mimetype": "text/x-python",
   "name": "python",
   "nbconvert_exporter": "python",
   "pygments_lexer": "ipython3",
   "version": "3.12.6"
  }
 },
 "nbformat": 4,
 "nbformat_minor": 5
}
